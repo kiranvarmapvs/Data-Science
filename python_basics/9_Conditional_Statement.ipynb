{
 "cells": [
  {
   "cell_type": "code",
   "execution_count": null,
   "metadata": {},
   "outputs": [],
   "source": [
    "# Python Conditions and If statements\n",
    "# Python supports the usual logical conditions from mathematics:\n",
    "\n",
    "# Equals: a == b\n",
    "# Not Equals: a != b\n",
    "# Less than: a < b\n",
    "# Less than or equal to: a <= b\n",
    "# Greater than: a > b\n",
    "# Greater than or equal to: a >= b\n",
    "\n",
    "# These conditions can be used in several ways, most commonly in \"if statements\" and loops.\n",
    "\n",
    "# An \"if statement\" is written by using the if keyword."
   ]
  },
  {
   "cell_type": "markdown",
   "metadata": {},
   "source": [
    "# If statement"
   ]
  },
  {
   "cell_type": "code",
   "execution_count": 3,
   "metadata": {},
   "outputs": [
    {
     "name": "stdout",
     "output_type": "stream",
     "text": [
      "EXAMPLE 1\n",
      "b is greater than a\n",
      "\n",
      "\n",
      "EXAMPLE 2\n",
      "Congratulations!!! You are passed in the exam\n",
      "\n",
      "\n",
      "EXAMPLE 3\n",
      "true\n"
     ]
    }
   ],
   "source": [
    "print(\"EXAMPLE 1\")\n",
    "a = 100\n",
    "b = 200\n",
    "if b > a:\n",
    "  print(\"b is greater than a\")\n",
    "print('\\n')\n",
    "# Note:- If statement, without indentation (will raise an error):\n",
    "\n",
    "print(\"EXAMPLE 2\")\n",
    "pass_marks = 50\n",
    "my_score = 70\n",
    "\n",
    "if (my_score >= pass_marks):  # Use (:) operator  at the end of the if line,because whatever the code you write after the colon operator will be part of if block\n",
    "    print(\"Congratulations!!! You are passed in the exam\")\n",
    "print('\\n')\n",
    "\n",
    "print(\"EXAMPLE 3\")\n",
    "if ('python' in ['Java', 'python', 'C++', 'Ruby']):\n",
    "    print(\"true\")"
   ]
  },
  {
   "cell_type": "markdown",
   "metadata": {},
   "source": [
    "# If Else"
   ]
  },
  {
   "cell_type": "code",
   "execution_count": 7,
   "metadata": {},
   "outputs": [
    {
     "name": "stdout",
     "output_type": "stream",
     "text": [
      "EXAMPLE 1\n",
      "b is not greater than a\n",
      "\n",
      "\n",
      "EXAMPLE 2\n",
      "Enter only postive number:-5\n",
      "Number is less than 10\n",
      "\n",
      "\n",
      "EXAMPLE 3\n",
      "Enter any number:-5\n",
      "You entered a Postive number\n",
      "\n",
      "\n",
      "EXAMPLE 4\n",
      "Enter your marks:- 65\n",
      "Congratulations!!! You are passed in the exam\n"
     ]
    }
   ],
   "source": [
    "print(\"EXAMPLE 1\")\n",
    "a = 200\n",
    "b = 100\n",
    "if b > a:\n",
    "  print(\"b is greater than a\")\n",
    "else:\n",
    "  print(\"b is not greater than a\")\n",
    "print('\\n')# If -Else\n",
    "\n",
    "print(\"EXAMPLE 2\")\n",
    "n = int(input(\"Enter only postive number:-\"))\n",
    "if (n > 10):\n",
    "    print(\"Number is greater than 10\")\n",
    "else:\n",
    "    print(\"Number is less than 10\")\n",
    "\n",
    "print(\"\\n\")\n",
    "\n",
    "print(\"EXAMPLE 3\")\n",
    "n = int(input(\"Enter any number:-\"))\n",
    "if (n >= 0):\n",
    "    print(\"You entered a Postive number\")\n",
    "else:\n",
    "    print(\"You entered a Negative Number\")\n",
    "print(\"\\n\")\n",
    "\n",
    "print(\"EXAMPLE 4\")\n",
    "pass_marks = 50\n",
    "my_score = int(input(\"Enter your marks:- \"))\n",
    "\n",
    "if (my_score >= pass_marks):\n",
    "    print(\"Congratulations!!! You are passed in the exam\")\n",
    "else:\n",
    "    print(\"Sorry!!! - You are failed in the exam, better luck next time\")"
   ]
  },
  {
   "cell_type": "markdown",
   "metadata": {},
   "source": [
    "# Elif"
   ]
  },
  {
   "cell_type": "code",
   "execution_count": 8,
   "metadata": {},
   "outputs": [
    {
     "name": "stdout",
     "output_type": "stream",
     "text": [
      "EXAMPLE 1\n",
      "b is greater than a\n"
     ]
    }
   ],
   "source": [
    "# The elif keyword is pythons way of saying \"if the previous conditions were not true, then try this condition\".\n",
    "print(\"EXAMPLE 1\")\n",
    "a = 10\n",
    "b = 33\n",
    "if b > a:\n",
    "  print(\"b is greater than a\")\n",
    "elif a == b:\n",
    "  print(\"a and b are equal\")"
   ]
  },
  {
   "cell_type": "markdown",
   "metadata": {},
   "source": [
    "# Elif-Else"
   ]
  },
  {
   "cell_type": "code",
   "execution_count": 9,
   "metadata": {},
   "outputs": [
    {
     "name": "stdout",
     "output_type": "stream",
     "text": [
      "EXAMPLE 1\n",
      "Enter the value of a:-100\n",
      "Enter the value of b:-20\n",
      "a is greater than b\n"
     ]
    }
   ],
   "source": [
    "# The else keyword catches anything which isn't caught by the preceding conditions.\n",
    "print(\"EXAMPLE 1\")\n",
    "# a = 200\n",
    "# b = 50\n",
    "\n",
    "a = int(input(\"Enter the value of a:-\"))\n",
    "b = int(input(\"Enter the value of b:-\"))\n",
    "\n",
    "if b > a:\n",
    "  print(\"b is greater than a\")\n",
    "elif a == b:\n",
    "  print(\"a and b are equal\")\n",
    "else:\n",
    "  print(\"a is greater than b\")"
   ]
  },
  {
   "cell_type": "markdown",
   "metadata": {},
   "source": [
    "# AND Operator"
   ]
  },
  {
   "cell_type": "code",
   "execution_count": 11,
   "metadata": {},
   "outputs": [
    {
     "name": "stdout",
     "output_type": "stream",
     "text": [
      "Both conditions are true\n",
      "Enter the value of x:200\n",
      "Enter the value of y:300\n",
      "Enter the value of z:500\n",
      "Both coniditions are false\n"
     ]
    }
   ],
   "source": [
    "# The and keyword is a logical operator, and is used to combine conditional statements:\n",
    "\n",
    "# Test if a is greater than b, AND if c is greater than a:\n",
    "\n",
    "x = 200\n",
    "y = 100\n",
    "z = 500\n",
    "if x > y and z > x:\n",
    "    print(\"Both conditions are true\")\n",
    "else:\n",
    "    print(\"Both coniditions are false\")\n",
    "    \n",
    "x = int(input(\"Enter the value of x:\"))\n",
    "y = int(input(\"Enter the value of y:\"))\n",
    "z = int(input(\"Enter the value of z:\"))\n",
    "if x > y and z > x:\n",
    "    print(\"Both conditions are true\")\n",
    "else:\n",
    "    print(\"Both coniditions are false\")"
   ]
  },
  {
   "cell_type": "markdown",
   "metadata": {},
   "source": [
    "# OR Operator in if statement"
   ]
  },
  {
   "cell_type": "code",
   "execution_count": 12,
   "metadata": {},
   "outputs": [
    {
     "name": "stdout",
     "output_type": "stream",
     "text": [
      "Enter the value of x:200\n",
      "Enter the value of y:300\n",
      "Enter the value of z:500\n",
      "Both conditions are true\n"
     ]
    }
   ],
   "source": [
    "# The or keyword is a logical operator, and is used to combine conditional statements:\n",
    "\n",
    "# Test if a is greater than b, OR if a is greater than c:\n",
    "\n",
    "x = int(input(\"Enter the value of x:\"))\n",
    "y = int(input(\"Enter the value of y:\"))\n",
    "z = int(input(\"Enter the value of z:\"))\n",
    "if x > y or z > x:\n",
    "    print(\"Both conditions are true\")\n",
    "else:\n",
    "    print(\"Both coniditions are false\")"
   ]
  },
  {
   "cell_type": "markdown",
   "metadata": {},
   "source": [
    "# Nested If"
   ]
  },
  {
   "cell_type": "code",
   "execution_count": 14,
   "metadata": {},
   "outputs": [
    {
     "name": "stdout",
     "output_type": "stream",
     "text": [
      "Enter the value of x:25\n",
      "Number is not equal to 10, 50 or 100\n",
      "Enter the value of a:25\n",
      "Number is above 10\n",
      "Number is above 20\n"
     ]
    }
   ],
   "source": [
    "# You can have if statements inside if statements, this is called nested if statements.\n",
    "\n",
    "x = int(input(\"Enter the value of x:\"))\n",
    "if x == 10:\n",
    "    print(\"Number is equal to 10\")\n",
    "elif x == 50:\n",
    "    print(\"number is equal to 50\")\n",
    "elif x == 100:\n",
    "    print(\"Number is equal to 100\")\n",
    "else:\n",
    "    print(\"Number is not equal to 10, 50 or 100\")\n",
    "    \n",
    "a = int(input(\"Enter the value of a:\"))\n",
    "if a > 10:\n",
    "    print(\"Number is above 10\")\n",
    "    if a > 20:\n",
    "        print(\"Number is above 20\")\n",
    "    else:\n",
    "        print(\"Number is not above 20\")\n",
    "\n"
   ]
  },
  {
   "cell_type": "markdown",
   "metadata": {},
   "source": [
    "# pass statement"
   ]
  },
  {
   "cell_type": "code",
   "execution_count": 15,
   "metadata": {},
   "outputs": [],
   "source": [
    "# if statements cannot be empty, but if you for some reason have an if statement with no content, \n",
    "# put in the pass statement to avoid getting an error.\n",
    "\n",
    "x = 20\n",
    "y = 30\n",
    "if y > x:\n",
    "    pass\n"
   ]
  },
  {
   "cell_type": "code",
   "execution_count": null,
   "metadata": {},
   "outputs": [],
   "source": []
  }
 ],
 "metadata": {
  "kernelspec": {
   "display_name": "Python 3",
   "language": "python",
   "name": "python3"
  },
  "language_info": {
   "codemirror_mode": {
    "name": "ipython",
    "version": 3
   },
   "file_extension": ".py",
   "mimetype": "text/x-python",
   "name": "python",
   "nbconvert_exporter": "python",
   "pygments_lexer": "ipython3",
   "version": "3.8.3"
  }
 },
 "nbformat": 4,
 "nbformat_minor": 4
}
