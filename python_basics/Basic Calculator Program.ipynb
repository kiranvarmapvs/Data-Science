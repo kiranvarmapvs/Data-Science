{
 "cells": [
  {
   "cell_type": "markdown",
   "metadata": {},
   "source": [
    "# Functions"
   ]
  },
  {
   "cell_type": "code",
   "execution_count": 6,
   "metadata": {},
   "outputs": [
    {
     "name": "stdout",
     "output_type": "stream",
     "text": [
      "Please choose the function by number:\n",
      "1.Addition \n",
      "2.Subtraction \n",
      "3.Multiplication \n",
      "4.Divison4\n",
      "Enter the first value:20\n",
      "Enter the second value:4\n",
      "The value for Divison is: 5.0\n"
     ]
    }
   ],
   "source": [
    "x = int(input(\"Please choose the function by number:\\n\" \n",
    "              \"1.Addition \\n\"\n",
    "              \"2.Subtraction \\n\"\n",
    "              \"3.Multiplication \\n\"\n",
    "              \"4.Divison\"))\n",
    "\n",
    "a = int(input(\"Enter the first value:\"))\n",
    "b = int(input(\"Enter the second value:\"))\n",
    "def add(a,b):\n",
    "    return a+b\n",
    "def sub(a,b):\n",
    "    return a-b\n",
    "def mul(a,b):\n",
    "    return a*b\n",
    "def div(a,b):\n",
    "    return a/b\n",
    "if x == 1:\n",
    "    print(\"The value for Addition is:\", add(a,b))\n",
    "elif x == 2:\n",
    "    print(\"The value for subtraction is:\", sub(a,b))\n",
    "elif x == 3:\n",
    "    print(\"The value for Multiplication is:\", mul(a,b))\n",
    "elif x == 4:\n",
    "    print(\"The value for Divison is:\", div(a,b))\n"
   ]
  },
  {
   "cell_type": "code",
   "execution_count": 7,
   "metadata": {},
   "outputs": [
    {
     "name": "stdout",
     "output_type": "stream",
     "text": [
      "Please select operation -\n",
      "1. Add\n",
      "2. Subtract\n",
      "3. Multiply\n",
      "4. Divide\n",
      "\n",
      "Select operations form 1, 2, 3, 4 :1\n",
      "Enter first number: 20\n",
      "Enter second number: 22\n",
      "20 + 22 = 42\n"
     ]
    }
   ],
   "source": [
    "# Python program for simple calculator \n",
    "  \n",
    "# Function to add two numbers  \n",
    "def add(num1, num2): \n",
    "    return num1 + num2 \n",
    "  \n",
    "# Function to subtract two numbers  \n",
    "def subtract(num1, num2): \n",
    "    return num1 - num2 \n",
    "  \n",
    "# Function to multiply two numbers \n",
    "def multiply(num1, num2): \n",
    "    return num1 * num2 \n",
    "  \n",
    "# Function to divide two numbers \n",
    "def divide(num1, num2): \n",
    "    return num1 / num2 \n",
    "  \n",
    "print(\"Please select operation -\\n\"\n",
    "        \"1. Add\\n\"\n",
    "        \"2. Subtract\\n\"\n",
    "        \"3. Multiply\\n\"\n",
    "        \"4. Divide\\n\") \n",
    "  \n",
    "  \n",
    "# Take input from the user  \n",
    "select = int(input(\"Select operations form 1, 2, 3, 4 :\")) \n",
    "  \n",
    "number_1 = int(input(\"Enter first number: \")) \n",
    "number_2 = int(input(\"Enter second number: \")) \n",
    "  \n",
    "if select == 1: \n",
    "    print(number_1, \"+\", number_2, \"=\", \n",
    "                    add(number_1, number_2)) \n",
    "  \n",
    "elif select == 2: \n",
    "    print(number_1, \"-\", number_2, \"=\", \n",
    "                    subtract(number_1, number_2)) \n",
    "  \n",
    "elif select == 3: \n",
    "    print(number_1, \"*\", number_2, \"=\", \n",
    "                    multiply(number_1, number_2)) \n",
    "  \n",
    "elif select == 4: \n",
    "    print(number_1, \"/\", number_2, \"=\", \n",
    "                    divide(number_1, number_2)) \n",
    "else: \n",
    "    print(\"Invalid input\")"
   ]
  },
  {
   "cell_type": "code",
   "execution_count": 15,
   "metadata": {},
   "outputs": [
    {
     "name": "stdout",
     "output_type": "stream",
     "text": [
      "Enter the year:-2021\n",
      "Enter the month:4\n",
      "Non Leap Year\n",
      "There are 30 days in this month\n"
     ]
    }
   ],
   "source": [
    "cy = int(input(\"Enter the year:-\"))\n",
    "m = int(input(\"Enter the month:\"))\n",
    "if (cy % 4) == 0 or (cy % 100) == 0 or (cy % 400) == 0:\n",
    "    print(\"Leap Year\")\n",
    "    if m == 1 or m == 3 or m == 5 or m == 7 or m == 8 or m == 10 or m == 12:\n",
    "        print(\"There are 31 days in this month\")\n",
    "    elif m == 4 or m == 6 or m == 9 or m == 11:\n",
    "        print(\"There are 30 days in this month\")\n",
    "    elif m == 2:\n",
    "        print(\"There are 29 days in this month\")\n",
    "    else:\n",
    "        print(\"Invalid Month\")\n",
    "elif (cy % 4) != 0 or (cy % 100) != 0 or (cy % 400) != 0:\n",
    "    print(\"Non Leap Year\")\n",
    "    if m == 1 or m == 3 or m == 5 or m == 7 or m == 8 or m == 10 or m == 12:\n",
    "        print(\"There are 31 days in this month\")\n",
    "    elif m == 4 or m == 6 or m == 9 or m == 11:\n",
    "        print(\"There are 30 days in this month\")\n",
    "    elif m == 2:\n",
    "        print(\"There are 28 days in this month\")\n",
    "    else:\n",
    "        print(\"Invalid Month\")\n",
    "else:\n",
    "    print(\"Invalid Year\")"
   ]
  },
  {
   "cell_type": "code",
   "execution_count": null,
   "metadata": {},
   "outputs": [],
   "source": []
  },
  {
   "cell_type": "code",
   "execution_count": null,
   "metadata": {},
   "outputs": [],
   "source": []
  }
 ],
 "metadata": {
  "kernelspec": {
   "display_name": "Python 3",
   "language": "python",
   "name": "python3"
  },
  "language_info": {
   "codemirror_mode": {
    "name": "ipython",
    "version": 3
   },
   "file_extension": ".py",
   "mimetype": "text/x-python",
   "name": "python",
   "nbconvert_exporter": "python",
   "pygments_lexer": "ipython3",
   "version": "3.8.3"
  }
 },
 "nbformat": 4,
 "nbformat_minor": 4
}
