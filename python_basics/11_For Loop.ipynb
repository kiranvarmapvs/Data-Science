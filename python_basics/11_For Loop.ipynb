{
 "cells": [
  {
   "cell_type": "code",
   "execution_count": null,
   "metadata": {},
   "outputs": [],
   "source": [
    "# The for loop takes a collection of items and executes a block of code once\n",
    "# for each item in the collection. In contrast, the while loop runs as long as,\n",
    "# or while, a certain condition is true."
   ]
  },
  {
   "cell_type": "code",
   "execution_count": 7,
   "metadata": {},
   "outputs": [
    {
     "name": "stdout",
     "output_type": "stream",
     "text": [
      "Monthly expenses: 200\n",
      "Monthly expenses: 300\n",
      "Monthly expenses: 400\n",
      "Monthly expenses: 530\n",
      "Monthly expenses: 654\n",
      "The total expenses: 2084\n"
     ]
    }
   ],
   "source": [
    "exp = [200, 300,400,530,654]\n",
    "total = 0\n",
    "#print(\"Monthly expenses:\\n\", exp[0])\n",
    "for i in exp:\n",
    "    print(\"Monthly expenses:\", i)\n",
    "    total = total + i\n",
    "print(\"The total expenses:\", total)"
   ]
  },
  {
   "cell_type": "code",
   "execution_count": 9,
   "metadata": {},
   "outputs": [
    {
     "name": "stdout",
     "output_type": "stream",
     "text": [
      "The current character: p\n",
      "The current character: y\n",
      "The current character: t\n",
      "The current character: h\n",
      "The current character: o\n",
      "The current character: n\n"
     ]
    }
   ],
   "source": [
    " x = \"python\"\n",
    "for i in x:\n",
    "    print(\"The current character:\", i)\n"
   ]
  },
  {
   "cell_type": "code",
   "execution_count": 12,
   "metadata": {},
   "outputs": [
    {
     "name": "stdout",
     "output_type": "stream",
     "text": [
      "The current fruit: Apple\n",
      "The current fruit: Cherry\n",
      "The current fruit: Mango\n",
      "The current fruit: Grapes\n"
     ]
    }
   ],
   "source": [
    "fruits = [\"Apple\", \"Cherry\", \"Mango\", \"Grapes\"]\n",
    "for i in fruits:\n",
    "    print(\"The current fruit:\", i)\n"
   ]
  },
  {
   "cell_type": "code",
   "execution_count": 20,
   "metadata": {},
   "outputs": [
    {
     "name": "stdout",
     "output_type": "stream",
     "text": [
      "Current value: Kiran\n",
      "Current value: KiranKiran\n",
      "Current value: KiranKiranKiran\n",
      "Current value: KiranKiranKiranKiran\n"
     ]
    }
   ],
   "source": [
    "x = [1,2,3,4]\n",
    "y = \"Kiran\"\n",
    "for i in x:\n",
    "    #y = y*i\n",
    "    print(\"Current value:\", y*i)\n",
    "    \n"
   ]
  },
  {
   "cell_type": "code",
   "execution_count": 27,
   "metadata": {},
   "outputs": [
    {
     "name": "stdout",
     "output_type": "stream",
     "text": [
      "Corse name: python and length is: 6\n",
      "Corse name: Machine Learning and length is: 16\n",
      "Corse name: Deep Learning and length is: 13\n",
      "Corse name: SQL and length is: 3\n"
     ]
    }
   ],
   "source": [
    "courses = [\"python\", \"Machine Learning\", \"Deep Learning\", \"SQL\"]\n",
    "for i in courses:\n",
    "    print(\"Corse name:\", i, \"and length is:\", len(i))\n",
    "    \n",
    "\n"
   ]
  },
  {
   "cell_type": "markdown",
   "metadata": {},
   "source": [
    "# Range"
   ]
  },
  {
   "cell_type": "code",
   "execution_count": null,
   "metadata": {},
   "outputs": [],
   "source": [
    "# Statement         Values generated\n",
    "# range(10)         0,1,2,3,4,5,6,7,8,9\n",
    "# range(1,10)       1,2,3,4,5,6,7,8,9\n",
    "# range(3,7)        3,4,5,6\n",
    "# range(2,15,3)     2,5,8,11,14\n",
    "# range(9,2,-1)     9,8,7,6,5,4,3"
   ]
  },
  {
   "cell_type": "code",
   "execution_count": 28,
   "metadata": {},
   "outputs": [
    {
     "name": "stdout",
     "output_type": "stream",
     "text": [
      "0\n",
      "1\n",
      "2\n",
      "3\n",
      "4\n",
      "5\n",
      "6\n",
      "7\n",
      "8\n",
      "9\n"
     ]
    }
   ],
   "source": [
    "for i in range(10):\n",
    "    print(i)"
   ]
  },
  {
   "cell_type": "code",
   "execution_count": 29,
   "metadata": {},
   "outputs": [
    {
     "name": "stdout",
     "output_type": "stream",
     "text": [
      "3\n",
      "4\n",
      "5\n",
      "6\n",
      "7\n",
      "8\n",
      "9\n"
     ]
    }
   ],
   "source": [
    "for i in range(3,10):\n",
    "    print(i)"
   ]
  },
  {
   "cell_type": "code",
   "execution_count": 30,
   "metadata": {},
   "outputs": [
    {
     "name": "stdout",
     "output_type": "stream",
     "text": [
      "The current value: 0\n",
      "The current value: 5\n",
      "The current value: 10\n",
      "The current value: 15\n",
      "The current value: 20\n",
      "The current value: 25\n"
     ]
    }
   ],
   "source": [
    "for i in range(0,30,5):\n",
    "    print(\"The current value:\", i)"
   ]
  },
  {
   "cell_type": "code",
   "execution_count": 31,
   "metadata": {},
   "outputs": [
    {
     "name": "stdout",
     "output_type": "stream",
     "text": [
      "Hello world\n",
      "Hello world\n",
      "Hello world\n",
      "Hello world\n",
      "Hello world\n",
      "Hello world\n",
      "Hello world\n",
      "Hello world\n",
      "Hello world\n",
      "Hello world\n"
     ]
    }
   ],
   "source": [
    "for i in range(1,11):\n",
    "    i = \"Hello world\"\n",
    "    print(i)\n"
   ]
  },
  {
   "cell_type": "code",
   "execution_count": 32,
   "metadata": {},
   "outputs": [
    {
     "name": "stdout",
     "output_type": "stream",
     "text": [
      "-10\n",
      "-30\n",
      "-50\n",
      "-70\n",
      "-90\n"
     ]
    }
   ],
   "source": [
    "for i in range(-10,-100, -20):\n",
    "    print(i)\n"
   ]
  },
  {
   "cell_type": "code",
   "execution_count": 33,
   "metadata": {},
   "outputs": [
    {
     "name": "stdout",
     "output_type": "stream",
     "text": [
      "1 --Kiran\n",
      "2 --Kiran\n",
      "3 --Kiran\n",
      "4 --Kiran\n",
      "5 --Kiran\n"
     ]
    }
   ],
   "source": [
    "for i in range(5):\n",
    "    print(i+1, '--Kiran')"
   ]
  },
  {
   "cell_type": "code",
   "execution_count": 35,
   "metadata": {},
   "outputs": [
    {
     "name": "stdout",
     "output_type": "stream",
     "text": [
      "Enter any number from 1 to 100:10\n",
      "Square of the number 10 is: 100\n",
      "Enter any number from 1 to 100:20\n",
      "Square of the number 20 is: 400\n",
      "Enter any number from 1 to 100:30\n",
      "Square of the number 30 is: 900\n"
     ]
    }
   ],
   "source": [
    "for i in range(3):\n",
    "    i = int(input(\"Enter any number from 1 to 100:\"))\n",
    "    x = i*i\n",
    "    print(\"Square of the number\", i, \"is:\", x)\n"
   ]
  },
  {
   "cell_type": "code",
   "execution_count": 38,
   "metadata": {},
   "outputs": [
    {
     "name": "stdout",
     "output_type": "stream",
     "text": [
      "10 9 8 7 6 5 4 3 2 1 "
     ]
    }
   ],
   "source": [
    "for i in range(10,0,-1):\n",
    "    print(i, end = ' ')"
   ]
  },
  {
   "cell_type": "code",
   "execution_count": 41,
   "metadata": {},
   "outputs": [
    {
     "name": "stdout",
     "output_type": "stream",
     "text": [
      "A\n",
      "B\n",
      "C\n",
      "C\n",
      "C\n",
      "C\n",
      "C\n",
      "D\n",
      "D\n",
      "D\n",
      "D\n",
      "D\n",
      "E\n"
     ]
    }
   ],
   "source": [
    "# The program below will print A, then B, then it will alternate C’s and D’s five times\n",
    "# and then finish with the letter E once\n",
    "\n",
    "print('A')\n",
    "print('B')\n",
    "\n",
    "for i in range(5):\n",
    "  print('C')\n",
    "for i in range (5):\n",
    "  print('D')\n",
    "    \n",
    "print('E')\n"
   ]
  },
  {
   "cell_type": "code",
   "execution_count": null,
   "metadata": {},
   "outputs": [],
   "source": []
  }
 ],
 "metadata": {
  "kernelspec": {
   "display_name": "Python 3",
   "language": "python",
   "name": "python3"
  },
  "language_info": {
   "codemirror_mode": {
    "name": "ipython",
    "version": 3
   },
   "file_extension": ".py",
   "mimetype": "text/x-python",
   "name": "python",
   "nbconvert_exporter": "python",
   "pygments_lexer": "ipython3",
   "version": "3.8.3"
  }
 },
 "nbformat": 4,
 "nbformat_minor": 4
}
