{
 "cells": [
  {
   "cell_type": "code",
   "execution_count": null,
   "metadata": {},
   "outputs": [],
   "source": [
    "# Sometimes, though, we need to repeat something, but we don’t know ahead of time exactly\n",
    "# how many times it has to be repeated. For instance, a game of Tic-tac-toe keeps going until someone\n",
    "# wins or there are no more moves to be made, so the number of turns will vary from game to game.\n",
    "# This is a situation that would call for a while loop.\n",
    "\n",
    "# The for loop takes a collection of items and executes a block of code once\n",
    "# for each item in the collection. In contrast, the while loop runs as long as,\n",
    "# or while, a certain condition is true.\n",
    "\n",
    "# A while loop statement in Python programming language repeatedly executes a target\n",
    "# statement as long as a given condition is true.\n",
    "\n",
    "# While loops are known as indefinite or conditional loops.\n",
    "# They will keep iterating until certain conditions are met.\n",
    "# There is no guarantee ahead of tme regarding how many times the loop will iterate. "
   ]
  },
  {
   "cell_type": "code",
   "execution_count": 2,
   "metadata": {},
   "outputs": [
    {
     "name": "stdout",
     "output_type": "stream",
     "text": [
      "Number: 0 \n",
      "\n",
      "Number: 2 \n",
      "\n",
      "Number: 4 \n",
      "\n",
      "Number: 6 \n",
      "\n",
      "Number: 8 \n",
      "\n",
      "This is the end of the loop:\n"
     ]
    }
   ],
   "source": [
    "i = 0\n",
    "while i < 10:\n",
    "    print(\"Number:\", i,\"\\n\")\n",
    "    i = i+2\n",
    "print(\"This is the end of the loop:\")\n",
    "\n",
    "# The variable i gets set to 0 to start. Next, the program tests the condition on the while loop. Because\n",
    "# i is 0, which is less than 10, the code indented under the while statement will get executed. This\n",
    "# code prints the current value of i and then executes the statement i=i+2 which adds 2 to i.\n",
    "# The variable i is now 2 and the program loops back to the while statement. It checks to see if i is\n",
    "# less than 10, and since i is 2, which is less than 10, the indented code should be executed again. So\n",
    "# we print i again, add 2 to it, and then loop back to check the while loop condition again. We keep\n",
    "# doing this until finally i gets to 10.\n",
    "# At this point, the while condition will finally not be true anymore and the program jumps down\n",
    "# to the first statement after the while, which prints Bye!. The end result of the program is the\n",
    "# numbers 0, 2, 4, . . . , 8 followed by the message, Bye!.\n",
    "# i = 0\n",
    "# while i<10:\n",
    "#  print(\"Number:-\",i ,\"\\n\")\n",
    "#  i=i+2\n",
    "# print('Bye!')"
   ]
  },
  {
   "cell_type": "code",
   "execution_count": 6,
   "metadata": {},
   "outputs": [
    {
     "name": "stdout",
     "output_type": "stream",
     "text": [
      "2.**welcome to python programming**\n",
      "4.****welcome to python programming****\n",
      "6.******welcome to python programming******\n",
      "8.********welcome to python programming********\n",
      "10.**********welcome to python programming**********\n"
     ]
    }
   ],
   "source": [
    "x = 0\n",
    "while x < 10:\n",
    "    x = x+2\n",
    "    print(f\"{x}.\"+\"*\"*x+\"welcome to python programming\"+\"*\"*x)\n",
    "   "
   ]
  },
  {
   "cell_type": "code",
   "execution_count": 11,
   "metadata": {},
   "outputs": [
    {
     "name": "stdout",
     "output_type": "stream",
     "text": [
      "0\n",
      "1\n",
      "1\n",
      "2\n",
      "2\n",
      "3\n",
      "3\n",
      "4\n",
      "4\n",
      "5\n",
      "5\n",
      "6\n",
      "6\n",
      "7\n",
      "7\n",
      "8\n",
      "8\n",
      "9\n",
      "9\n",
      "10\n"
     ]
    }
   ],
   "source": [
    "x = 0\n",
    "while x < 10:\n",
    "    print(x)\n",
    "    x = x+1"
   ]
  },
  {
   "cell_type": "code",
   "execution_count": 12,
   "metadata": {},
   "outputs": [
    {
     "name": "stdout",
     "output_type": "stream",
     "text": [
      "The count is: 1\n",
      "The count is: 2\n",
      "The count is: 3\n",
      "The count is: 4\n",
      "The count is: 5\n",
      "The count is: 6\n",
      "The count is: 7\n",
      "The count is: 8\n",
      "The count is: 9\n",
      "Good bye!\n"
     ]
    }
   ],
   "source": [
    "count = 1\n",
    "while (count < 10):\n",
    " print ('The count is:', count)\n",
    " count = count + 1\n",
    "    \n",
    "print (\"Good bye!\")"
   ]
  },
  {
   "cell_type": "code",
   "execution_count": 22,
   "metadata": {},
   "outputs": [
    {
     "name": "stdout",
     "output_type": "stream",
     "text": [
      "Square of: 1 is 1\n",
      "Square of: 2 is 4\n",
      "Square of: 3 is 9\n",
      "Square of: 4 is 16\n",
      "Square of: 5 is 25\n",
      "Square of: 6 is 36\n",
      "Square of: 7 is 49\n",
      "Square of: 8 is 64\n",
      "Square of: 9 is 81\n"
     ]
    }
   ],
   "source": [
    "x = 1\n",
    "while (x <10):\n",
    "     y = x*x\n",
    "     print(\"Square of:\", x, \"is\",  y)  \n",
    "     x = x+1\n"
   ]
  },
  {
   "cell_type": "code",
   "execution_count": 24,
   "metadata": {},
   "outputs": [
    {
     "name": "stdout",
     "output_type": "stream",
     "text": [
      "Multiplication of: 3 X 1 = 3\n",
      "Multiplication of: 3 X 2 = 6\n",
      "Multiplication of: 3 X 3 = 9\n",
      "Multiplication of: 3 X 4 = 12\n",
      "Multiplication of: 3 X 5 = 15\n",
      "Multiplication of: 3 X 6 = 18\n",
      "Multiplication of: 3 X 7 = 21\n",
      "Multiplication of: 3 X 8 = 24\n",
      "Multiplication of: 3 X 9 = 27\n",
      "Multiplication of: 3 X 10 = 30\n"
     ]
    }
   ],
   "source": [
    "x = 3\n",
    "y = 1\n",
    "while(y <11):\n",
    "    z = x*y\n",
    "    print(\"Multiplication of:\",x,\"X\",y,\"=\",z)\n",
    "    y = y+1"
   ]
  },
  {
   "cell_type": "code",
   "execution_count": 26,
   "metadata": {},
   "outputs": [
    {
     "name": "stdout",
     "output_type": "stream",
     "text": [
      "Enter the number for multiplication:50\n",
      "Multiplication of: 50 X 1 = 50\n",
      "Multiplication of: 50 X 2 = 100\n",
      "Multiplication of: 50 X 3 = 150\n",
      "Multiplication of: 50 X 4 = 200\n",
      "Multiplication of: 50 X 5 = 250\n",
      "Multiplication of: 50 X 6 = 300\n",
      "Multiplication of: 50 X 7 = 350\n",
      "Multiplication of: 50 X 8 = 400\n",
      "Multiplication of: 50 X 9 = 450\n",
      "Multiplication of: 50 X 10 = 500\n"
     ]
    }
   ],
   "source": [
    "x = int(input(\"Enter the number for multiplication:\"))\n",
    "y = 1\n",
    "while(y <11):\n",
    "    z = x*y\n",
    "    print(\"Multiplication of:\",x,\"X\",y,\"=\",z)\n",
    "    y = y+1"
   ]
  },
  {
   "cell_type": "code",
   "execution_count": null,
   "metadata": {},
   "outputs": [],
   "source": [
    "i = 10\n",
    "while(i>=1):\n",
    "    print(i)\n",
    "    i = i-1"
   ]
  },
  {
   "cell_type": "code",
   "execution_count": null,
   "metadata": {},
   "outputs": [],
   "source": []
  }
 ],
 "metadata": {
  "kernelspec": {
   "display_name": "Python 3",
   "language": "python",
   "name": "python3"
  },
  "language_info": {
   "codemirror_mode": {
    "name": "ipython",
    "version": 3
   },
   "file_extension": ".py",
   "mimetype": "text/x-python",
   "name": "python",
   "nbconvert_exporter": "python",
   "pygments_lexer": "ipython3",
   "version": "3.8.3"
  }
 },
 "nbformat": 4,
 "nbformat_minor": 4
}
